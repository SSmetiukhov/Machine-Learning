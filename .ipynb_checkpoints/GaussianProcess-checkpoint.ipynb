{
 "cells": [
  {
   "cell_type": "code",
   "execution_count": 1,
   "id": "8f5bb04d",
   "metadata": {},
   "outputs": [
    {
     "name": "stdout",
     "output_type": "stream",
     "text": [
      "  fire  year  temp  humidity  rainfall  drought_code  buildup_index  day  \\\n",
      "0   no  2015    28        59       0.0          8.06           3.47    1   \n",
      "1   no  2010    30        61       1.3          8.17           4.03    2   \n",
      "2   no  2009    26        83      13.1          8.08           3.59    3   \n",
      "3   no  2017    25        87       2.5          7.18           2.42    4   \n",
      "4   no  2014    28        77       0.0         14.98           4.63    5   \n",
      "\n",
      "   month  wind_speed  \n",
      "0      6          19  \n",
      "1      6          13  \n",
      "2      6          22  \n",
      "3      6          15  \n",
      "4      6          18  \n",
      "(154, 10)\n"
     ]
    }
   ],
   "source": [
    "import pandas as pd\n",
    "\n",
    "# details for wildfires dataset\n",
    "training_file = \"wildfires_training.csv\"\n",
    "test_file = \"wildfires_test.csv\"\n",
    "independent_cols = [\"year\",\"temp\",\"humidity\",\"rainfall\",\"drought_code\",\"buildup_index\",\"day\",\"month\",\"wind_speed\"]\n",
    "dependent_col = \"fire\"\n",
    "\n",
    "# loading training dataset in from the training file using the pandas library\n",
    "df_training = pd.read_csv(training_file)\n",
    "print(df_training.head())\n",
    "print(df_training.shape)"
   ]
  },
  {
   "cell_type": "code",
   "execution_count": 2,
   "id": "9ac18799",
   "metadata": {},
   "outputs": [
    {
     "name": "stdout",
     "output_type": "stream",
     "text": [
      "   year  temp  humidity  rainfall  drought_code  buildup_index  day  month  \\\n",
      "0  2015    28        59       0.0          8.06           3.47    1      6   \n",
      "1  2010    30        61       1.3          8.17           4.03    2      6   \n",
      "2  2009    26        83      13.1          8.08           3.59    3      6   \n",
      "3  2017    25        87       2.5          7.18           2.42    4      6   \n",
      "4  2014    28        77       0.0         14.98           4.63    5      6   \n",
      "\n",
      "   wind_speed  \n",
      "0          19  \n",
      "1          13  \n",
      "2          22  \n",
      "3          15  \n",
      "4          18  \n",
      "(154, 9)\n"
     ]
    }
   ],
   "source": [
    "# set up a matrix X containing the independent variables from the training data\n",
    "X_training = df_training.loc[:,independent_cols]\n",
    "print(X_training.head())\n",
    "print(X_training.shape)"
   ]
  },
  {
   "cell_type": "code",
   "execution_count": 3,
   "id": "b25e2e5e",
   "metadata": {},
   "outputs": [
    {
     "name": "stdout",
     "output_type": "stream",
     "text": [
      "0    no\n",
      "1    no\n",
      "2    no\n",
      "3    no\n",
      "4    no\n",
      "Name: fire, dtype: object\n",
      "(154,)\n"
     ]
    }
   ],
   "source": [
    "# Set up a vector y containing the dependent variable for the training data\n",
    "y_training = df_training.loc[:,dependent_col]\n",
    "print(y_training.head())\n",
    "print(y_training.shape)"
   ]
  },
  {
   "cell_type": "code",
   "execution_count": 4,
   "id": "010a90e5",
   "metadata": {},
   "outputs": [
    {
     "name": "stdout",
     "output_type": "stream",
     "text": [
      "  fire  year  temp  humidity  rainfall  drought_code  buildup_index  day  \\\n",
      "0   no  2015    33        68       4.5          9.12           5.09   19   \n",
      "1  yes  2009    28        56       0.0         38.17          21.21   12   \n",
      "2   no  2017    30        64       0.6         15.38           6.24   24   \n",
      "3   no  2007    23        74       8.3          7.36           2.27   14   \n",
      "4   no  2017    31        72       0.3         30.47           5.63    7   \n",
      "\n",
      "   month  wind_speed  \n",
      "0      6          16  \n",
      "1      6          18  \n",
      "2      9          19  \n",
      "3      9          28  \n",
      "4      9          17  \n",
      "(50, 10)\n"
     ]
    }
   ],
   "source": [
    "# loading our test dataset in from the file wildfires_test.csv\n",
    "df_test = pd.read_csv(test_file)\n",
    "print(df_test.head())\n",
    "print(df_test.shape)"
   ]
  },
  {
   "cell_type": "code",
   "execution_count": 5,
   "id": "78ea8b63",
   "metadata": {},
   "outputs": [
    {
     "name": "stdout",
     "output_type": "stream",
     "text": [
      "   year  temp  humidity  rainfall  drought_code  buildup_index  day  month  \\\n",
      "0  2015    33        68       4.5          9.12           5.09   19      6   \n",
      "1  2009    28        56       0.0         38.17          21.21   12      6   \n",
      "2  2017    30        64       0.6         15.38           6.24   24      9   \n",
      "3  2007    23        74       8.3          7.36           2.27   14      9   \n",
      "4  2017    31        72       0.3         30.47           5.63    7      9   \n",
      "\n",
      "   wind_speed  \n",
      "0          16  \n",
      "1          18  \n",
      "2          19  \n",
      "3          28  \n",
      "4          17  \n",
      "(50, 9)\n"
     ]
    }
   ],
   "source": [
    "# set up a matrix X containing the independent variables from the test data\n",
    "X_test = df_test.loc[:,independent_cols]\n",
    "print(X_test.head())\n",
    "print(X_test.shape)"
   ]
  },
  {
   "cell_type": "code",
   "execution_count": 6,
   "id": "5e901018",
   "metadata": {},
   "outputs": [
    {
     "name": "stdout",
     "output_type": "stream",
     "text": [
      "0     no\n",
      "1    yes\n",
      "2     no\n",
      "3     no\n",
      "4     no\n",
      "Name: fire, dtype: object\n",
      "(50,)\n"
     ]
    }
   ],
   "source": [
    "# Set up a vector y containing the dependent variable  for the test data\n",
    "y_test = df_test.loc[:,dependent_col]\n",
    "print(y_test.head())\n",
    "print(y_test.shape)"
   ]
  },
  {
   "cell_type": "code",
   "execution_count": 66,
   "id": "cc0d57d7",
   "metadata": {},
   "outputs": [
    {
     "name": "stdout",
     "output_type": "stream",
     "text": [
      "Accuracy on training data: 1.0\n",
      "Accuracy on test data: 0.82\n"
     ]
    }
   ],
   "source": [
    "from sklearn.gaussian_process import GaussianProcessClassifier\n",
    "from sklearn.gaussian_process.kernels import RBF, RationalQuadratic as RQ, ConstantKernel as C, WhiteKernel as Wh\n",
    "from sklearn.gaussian_process.kernels import Matern as M, DotProduct as Dt\n",
    "from sklearn import metrics\n",
    "# create a model using the default settings\n",
    "model = GaussianProcessClassifier().fit(X_training, y_training)\n",
    "\n",
    "predictions_training = model.predict(X_training)\n",
    "predictions_test = model.predict(X_test)\n",
    "\n",
    "# compute the accuracy on the training and test set predictions\n",
    "accuracy_training = metrics.accuracy_score(y_training, predictions_training)\n",
    "accuracy_test = metrics.accuracy_score(y_test, predictions_test)\n",
    "print(\"Accuracy on training data:\",accuracy_training)\n",
    "print(\"Accuracy on test data:\",accuracy_test)"
   ]
  },
  {
   "cell_type": "code",
   "execution_count": 130,
   "id": "767d5e15",
   "metadata": {},
   "outputs": [
    {
     "name": "stdout",
     "output_type": "stream",
     "text": [
      "[1, 5, 10, 50, 100, 200, 300, 400, 500, 1000]\n",
      "[1.0, 1.0, 1.0, 1.0, 1.0]\n",
      "[0.82, 0.82, 0.82, 0.82, 0.82]\n"
     ]
    }
   ],
   "source": [
    "max_iter_predicts = [1, 5, 10, 50, 100, 200, 300, 400, 500, 1000]\n",
    "max_iter_predicts_s = [\"1\", \"5\", \"10\", \"50\", \"100\", \"200\", \"300\", \"400\", \"500\", \"1000\"]\n",
    "print(max_iter_predicts)\n",
    "accuracy_training_i = []\n",
    "accuracy_test_i = []\n",
    "for max_iter in max_iter_predicts:\n",
    "    model_i = GaussianProcessClassifier(max_iter_predict=max_iter).fit(X_training, y_training)\n",
    "\n",
    "    # compute the accuracy on the training and test set predictions\n",
    "    predictions_training_i = model_i.predict(X_training)\n",
    "    predictions_test_i = model_i.predict(X_test)\n",
    "\n",
    "    # compute the accuracy on the training and test set predictions\n",
    "    accuracy_training_i.append(metrics.accuracy_score(y_training, predictions_training_i))\n",
    "    accuracy_test_i.append(metrics.accuracy_score(y_test, predictions_test_i))\n",
    "\n",
    "print(accuracy_training_k)\n",
    "print(accuracy_test_k)"
   ]
  },
  {
   "cell_type": "code",
   "execution_count": 126,
   "id": "67f00ffc",
   "metadata": {},
   "outputs": [
    {
     "data": {
      "image/png": "[encoded data removed]",
      "text/plain": [
       "<Figure size 432x288 with 1 Axes>"
      ]
     },
     "metadata": {
      "needs_background": "light"
     },
     "output_type": "display_data"
    }
   ],
   "source": [
    "import matplotlib.pyplot as plt\n",
    "plt.scatter(max_iter_predicts_s,accuracy_training_i,marker=\"x\")\n",
    "plt.scatter(max_iter_predicts_s,accuracy_test_i,marker=\"+\")\n",
    "plt.xlim([0, len(max_iter_predicts_s)])\n",
    "plt.ylim([0.0, 1.1])\n",
    "plt.xlabel(\"The maximum number of iterations in Newton’s\")\n",
    "plt.ylabel(\"Accuracy\")\n",
    "legend_labels = [\"Training\",\"Test\"]\n",
    "plt.legend(labels=legend_labels, loc=4, borderpad=1)\n",
    "plt.title(\"Effect of kernel on training and test set accuracy\", fontsize=10)\n",
    "plt.show()\n",
    "#test 1 graph"
   ]
  },
  {
   "cell_type": "code",
   "execution_count": 127,
   "id": "167add99",
   "metadata": {},
   "outputs": [
    {
     "name": "stderr",
     "output_type": "stream",
     "text": [
      "C:\\Users\\Sergey\\AppData\\Local\\Programs\\Python\\Python38\\lib\\site-packages\\sklearn\\gaussian_process\\kernels.py:430: ConvergenceWarning: The optimal value found for dimension 0 of parameter alpha is close to the specified upper bound 100000.0. Increasing the bound and calling fit again may find a better value.\n",
      "  warnings.warn(\n",
      "C:\\Users\\Sergey\\AppData\\Local\\Programs\\Python\\Python38\\lib\\site-packages\\sklearn\\gaussian_process\\kernels.py:430: ConvergenceWarning: The optimal value found for dimension 0 of parameter alpha is close to the specified upper bound 100000.0. Increasing the bound and calling fit again may find a better value.\n",
      "  warnings.warn(\n",
      "C:\\Users\\Sergey\\AppData\\Local\\Programs\\Python\\Python38\\lib\\site-packages\\sklearn\\gaussian_process\\kernels.py:430: ConvergenceWarning: The optimal value found for dimension 0 of parameter alpha is close to the specified upper bound 100000.0. Increasing the bound and calling fit again may find a better value.\n",
      "  warnings.warn(\n",
      "C:\\Users\\Sergey\\AppData\\Local\\Programs\\Python\\Python38\\lib\\site-packages\\sklearn\\gaussian_process\\kernels.py:430: ConvergenceWarning: The optimal value found for dimension 0 of parameter alpha is close to the specified upper bound 100000.0. Increasing the bound and calling fit again may find a better value.\n",
      "  warnings.warn(\n",
      "C:\\Users\\Sergey\\AppData\\Local\\Programs\\Python\\Python38\\lib\\site-packages\\sklearn\\gaussian_process\\kernels.py:430: ConvergenceWarning: The optimal value found for dimension 0 of parameter alpha is close to the specified upper bound 100000.0. Increasing the bound and calling fit again may find a better value.\n",
      "  warnings.warn(\n",
      "C:\\Users\\Sergey\\AppData\\Local\\Programs\\Python\\Python38\\lib\\site-packages\\sklearn\\gaussian_process\\kernels.py:430: ConvergenceWarning: The optimal value found for dimension 0 of parameter alpha is close to the specified upper bound 100000.0. Increasing the bound and calling fit again may find a better value.\n",
      "  warnings.warn(\n",
      "C:\\Users\\Sergey\\AppData\\Local\\Programs\\Python\\Python38\\lib\\site-packages\\sklearn\\gaussian_process\\kernels.py:430: ConvergenceWarning: The optimal value found for dimension 0 of parameter alpha is close to the specified upper bound 100000.0. Increasing the bound and calling fit again may find a better value.\n",
      "  warnings.warn(\n",
      "C:\\Users\\Sergey\\AppData\\Local\\Programs\\Python\\Python38\\lib\\site-packages\\sklearn\\gaussian_process\\kernels.py:430: ConvergenceWarning: The optimal value found for dimension 0 of parameter alpha is close to the specified upper bound 100000.0. Increasing the bound and calling fit again may find a better value.\n",
      "  warnings.warn(\n",
      "C:\\Users\\Sergey\\AppData\\Local\\Programs\\Python\\Python38\\lib\\site-packages\\sklearn\\gaussian_process\\kernels.py:430: ConvergenceWarning: The optimal value found for dimension 0 of parameter alpha is close to the specified upper bound 100000.0. Increasing the bound and calling fit again may find a better value.\n",
      "  warnings.warn(\n"
     ]
    },
    {
     "name": "stdout",
     "output_type": "stream",
     "text": [
      "kernel = RationalQuadratic(alpha=1, length_scale=1) training [0.8116883116883117, 0.8636363636363636, 0.8636363636363636, 0.8636363636363636, 0.8636363636363636, 0.8636363636363636, 0.8636363636363636, 0.8636363636363636, 0.8636363636363636, 0.8636363636363636] \n",
      "\n",
      "kernel = RationalQuadratic(alpha=1, length_scale=1) test [0.72, 0.84, 0.84, 0.84, 0.84, 0.84, 0.84, 0.84, 0.84, 0.84] \n",
      "\n"
     ]
    },
    {
     "name": "stderr",
     "output_type": "stream",
     "text": [
      "C:\\Users\\Sergey\\AppData\\Local\\Programs\\Python\\Python38\\lib\\site-packages\\sklearn\\gaussian_process\\_gpc.py:472: ConvergenceWarning: lbfgs failed to converge (status=2):\n",
      "ABNORMAL_TERMINATION_IN_LNSRCH.\n",
      "\n",
      "Increase the number of iterations (max_iter) or scale the data as shown in:\n",
      "    https://scikit-learn.org/stable/modules/preprocessing.html\n",
      "  _check_optimize_result(\"lbfgs\", opt_res)\n"
     ]
    },
    {
     "name": "stdout",
     "output_type": "stream",
     "text": [
      "kernel = RBF(length_scale=1) training [0.8116883116883117, 0.8636363636363636, 0.8636363636363636, 0.8636363636363636, 0.8636363636363636, 0.8636363636363636, 0.8636363636363636, 0.8636363636363636, 0.8636363636363636, 0.8636363636363636] \n",
      "\n",
      "kernel = RBF(length_scale=1) test [0.72, 0.84, 0.84, 0.84, 0.84, 0.84, 0.84, 0.84, 0.84, 0.84] \n",
      "\n"
     ]
    },
    {
     "name": "stderr",
     "output_type": "stream",
     "text": [
      "C:\\Users\\Sergey\\AppData\\Local\\Programs\\Python\\Python38\\lib\\site-packages\\sklearn\\gaussian_process\\kernels.py:420: ConvergenceWarning: The optimal value found for dimension 0 of parameter constant_value is close to the specified lower bound 1e-05. Decreasing the bound and calling fit again may find a better value.\n",
      "  warnings.warn(\n",
      "C:\\Users\\Sergey\\AppData\\Local\\Programs\\Python\\Python38\\lib\\site-packages\\sklearn\\gaussian_process\\kernels.py:420: ConvergenceWarning: The optimal value found for dimension 0 of parameter constant_value is close to the specified lower bound 1e-05. Decreasing the bound and calling fit again may find a better value.\n",
      "  warnings.warn(\n",
      "C:\\Users\\Sergey\\AppData\\Local\\Programs\\Python\\Python38\\lib\\site-packages\\sklearn\\gaussian_process\\kernels.py:420: ConvergenceWarning: The optimal value found for dimension 0 of parameter constant_value is close to the specified lower bound 1e-05. Decreasing the bound and calling fit again may find a better value.\n",
      "  warnings.warn(\n",
      "C:\\Users\\Sergey\\AppData\\Local\\Programs\\Python\\Python38\\lib\\site-packages\\sklearn\\gaussian_process\\kernels.py:420: ConvergenceWarning: The optimal value found for dimension 0 of parameter constant_value is close to the specified lower bound 1e-05. Decreasing the bound and calling fit again may find a better value.\n",
      "  warnings.warn(\n",
      "C:\\Users\\Sergey\\AppData\\Local\\Programs\\Python\\Python38\\lib\\site-packages\\sklearn\\gaussian_process\\kernels.py:420: ConvergenceWarning: The optimal value found for dimension 0 of parameter constant_value is close to the specified lower bound 1e-05. Decreasing the bound and calling fit again may find a better value.\n",
      "  warnings.warn(\n",
      "C:\\Users\\Sergey\\AppData\\Local\\Programs\\Python\\Python38\\lib\\site-packages\\sklearn\\gaussian_process\\kernels.py:420: ConvergenceWarning: The optimal value found for dimension 0 of parameter constant_value is close to the specified lower bound 1e-05. Decreasing the bound and calling fit again may find a better value.\n",
      "  warnings.warn(\n",
      "C:\\Users\\Sergey\\AppData\\Local\\Programs\\Python\\Python38\\lib\\site-packages\\sklearn\\gaussian_process\\kernels.py:420: ConvergenceWarning: The optimal value found for dimension 0 of parameter constant_value is close to the specified lower bound 1e-05. Decreasing the bound and calling fit again may find a better value.\n",
      "  warnings.warn(\n",
      "C:\\Users\\Sergey\\AppData\\Local\\Programs\\Python\\Python38\\lib\\site-packages\\sklearn\\gaussian_process\\kernels.py:420: ConvergenceWarning: The optimal value found for dimension 0 of parameter constant_value is close to the specified lower bound 1e-05. Decreasing the bound and calling fit again may find a better value.\n",
      "  warnings.warn(\n",
      "C:\\Users\\Sergey\\AppData\\Local\\Programs\\Python\\Python38\\lib\\site-packages\\sklearn\\gaussian_process\\kernels.py:420: ConvergenceWarning: The optimal value found for dimension 0 of parameter constant_value is close to the specified lower bound 1e-05. Decreasing the bound and calling fit again may find a better value.\n",
      "  warnings.warn(\n",
      "C:\\Users\\Sergey\\AppData\\Local\\Programs\\Python\\Python38\\lib\\site-packages\\sklearn\\gaussian_process\\kernels.py:420: ConvergenceWarning: The optimal value found for dimension 0 of parameter constant_value is close to the specified lower bound 1e-05. Decreasing the bound and calling fit again may find a better value.\n",
      "  warnings.warn(\n"
     ]
    },
    {
     "name": "stdout",
     "output_type": "stream",
     "text": [
      "kernel = 1**2 training [0.512987012987013, 0.512987012987013, 0.512987012987013, 0.512987012987013, 0.512987012987013, 0.512987012987013, 0.512987012987013, 0.512987012987013, 0.512987012987013, 0.512987012987013] \n",
      "\n",
      "kernel = 1**2 test [0.56, 0.56, 0.56, 0.56, 0.56, 0.56, 0.56, 0.56, 0.56, 0.56] \n",
      "\n",
      "kernel = WhiteKernel(noise_level=1) training [0.487012987012987, 0.487012987012987, 0.487012987012987, 0.487012987012987, 0.487012987012987, 0.487012987012987, 0.487012987012987, 0.487012987012987, 0.487012987012987, 0.487012987012987] \n",
      "\n",
      "kernel = WhiteKernel(noise_level=1) test [0.44, 0.44, 0.44, 0.44, 0.44, 0.44, 0.44, 0.44, 0.44, 0.44] \n",
      "\n",
      "kernel = Matern(length_scale=1, nu=1.5) training [0.8051948051948052, 0.8701298701298701, 0.8701298701298701, 0.8701298701298701, 0.8701298701298701, 0.8701298701298701, 0.8701298701298701, 0.8701298701298701, 0.8701298701298701, 0.8701298701298701] \n",
      "\n",
      "kernel = Matern(length_scale=1, nu=1.5) test [0.72, 0.84, 0.84, 0.84, 0.84, 0.84, 0.84, 0.84, 0.84, 0.84] \n",
      "\n",
      "kernel = DotProduct(sigma_0=1) training [0.512987012987013, 0.487012987012987, 0.9025974025974026, 0.9090909090909091, 0.9090909090909091, 0.9090909090909091, 0.9090909090909091, 0.9090909090909091, 0.9090909090909091, 0.9090909090909091] \n",
      "\n",
      "kernel = DotProduct(sigma_0=1) test [0.56, 0.44, 0.88, 0.9, 0.9, 0.9, 0.9, 0.9, 0.9, 0.9] \n",
      "\n"
     ]
    }
   ],
   "source": [
    "kernels = [RQ(), RBF(), C(), Wh(), M(), Dt()]\n",
    "kernels_s = [\"RQ()\", \"RBF()\", \"C()\", \"Wh()\", \"M()\", \"Dt()\"]\n",
    "accuracy_training_k_n = []\n",
    "accuracy_test_k_n = []\n",
    "for j in range(len(kernels)):\n",
    "    accuracy_training_k_n.append([])\n",
    "    accuracy_test_k_n.append([]) \n",
    "    for max_iter in max_iter_predicts:\n",
    "        model_k_n = GaussianProcessClassifier(kernel=kernels[j], max_iter_predict=max_iter)\n",
    "        model_k_n.fit(X_training, y_training)\n",
    "\n",
    "        # compute the accuracy on the training and test set predictions\n",
    "        predictions_training_k_n = model_k_n.predict(X_training)\n",
    "        predictions_test_k_n = model_k_n.predict(X_test)\n",
    "\n",
    "        # compute the accuracy on the training and test set predictions\n",
    "        accuracy_training_k_n[j].append(metrics.accuracy_score(y_training, predictions_training_k_n))\n",
    "        accuracy_test_k_n[j].append(metrics.accuracy_score(y_test, predictions_test_k_n))\n",
    "        \n",
    "    print(\"kernel =\",kernels[j],\"training\",accuracy_training_k_n[j],\"\\n\")\n",
    "    print(\"kernel =\",kernels[j],\"test\",accuracy_test_k_n[j],\"\\n\")"
   ]
  },
  {
   "cell_type": "code",
   "execution_count": 128,
   "id": "ec97ec9a",
   "metadata": {},
   "outputs": [
    {
     "data": {
      "image/png": "[encoded data removed]",
      "text/plain": [
       "<Figure size 432x288 with 1 Axes>"
      ]
     },
     "metadata": {
      "needs_background": "light"
     },
     "output_type": "display_data"
    },
    {
     "data": {
      "image/png": "[encoded data removed]",
      "text/plain": [
       "<Figure size 432x288 with 1 Axes>"
      ]
     },
     "metadata": {
      "needs_background": "light"
     },
     "output_type": "display_data"
    }
   ],
   "source": [
    "# plot the accuracy on the training set\n",
    "import matplotlib.pyplot as plt\n",
    "plt.scatter(max_iter_predicts_s,accuracy_training_k_n[0],marker=\"x\")\n",
    "plt.scatter(max_iter_predicts_s,accuracy_training_k_n[1],marker=\"x\")\n",
    "plt.scatter(max_iter_predicts_s,accuracy_training_k_n[2],marker=\"*\")\n",
    "plt.scatter(max_iter_predicts_s,accuracy_training_k_n[3],marker=\"s\")\n",
    "plt.scatter(max_iter_predicts_s,accuracy_training_k_n[4],marker=\"o\")\n",
    "plt.scatter(max_iter_predicts_s,accuracy_training_k_n[5],marker=\"v\")\n",
    "plt.xlim([0, len(max_iter_predicts_s)+2])\n",
    "plt.ylim([0.0, 1.1])\n",
    "plt.xlabel(\"The maximum number of iterations in Newton’s method\")\n",
    "plt.ylabel(\"Accuracy\")\n",
    "legend_labels = [\"Training (Rational Quadratic(1)\",\"Training (RBF(2)\",\"Training (Constant(3)\",\n",
    "                 \"Training (WhiteKernel(4)\", \"Training (Mattern(5))\", \"Training (Dot Product(6))\"]\n",
    "plt.legend(labels=legend_labels, loc=4, borderpad=0.2)\n",
    "plt.title(\"Effect of kernel and maximum number of iterations in Newton’s method on training set accuracy\", fontsize=10)\n",
    "plt.show()\n",
    "\n",
    "# plot the accuracy on the test set\n",
    "import matplotlib.pyplot as plt\n",
    "plt.scatter(max_iter_predicts_s,accuracy_test_k_n[0],marker=\"x\")\n",
    "plt.scatter(max_iter_predicts_s,accuracy_test_k_n[1],marker=\"x\")\n",
    "plt.scatter(max_iter_predicts_s,accuracy_test_k_n[2],marker=\"*\")\n",
    "plt.scatter(max_iter_predicts_s,accuracy_test_k_n[3],marker=\"s\")\n",
    "plt.scatter(max_iter_predicts_s,accuracy_test_k_n[4],marker=\"o\")\n",
    "plt.scatter(max_iter_predicts_s,accuracy_test_k_n[5],marker=\"v\")\n",
    "plt.xlim([0, len(max_iter_predicts_s)+2])\n",
    "plt.ylim([0.0, 1.1])\n",
    "plt.xlabel(\"The maximum number of iterations in Newton’s method\")\n",
    "plt.ylabel(\"Accuracy\")\n",
    "legend_labels = [\"Test (Rational Quadratic(1)\",\"Test (RBF(2)\",\"Test (Constant(3)\",\n",
    "                 \"Test (WhiteKernel(4)\", \"Test (Mattern(5))\", \"Test (Dot Product(6))\"]\n",
    "plt.legend(labels=legend_labels, loc=4, borderpad=0.2)\n",
    "plt.title(\"Effect of kernel and maximum number of iterations in Newton’s method on test set accuracy\", fontsize=10)\n",
    "plt.show()\n",
    "#test 2 data"
   ]
  },
  {
   "cell_type": "code",
   "execution_count": 129,
   "id": "fe891e96",
   "metadata": {},
   "outputs": [
    {
     "name": "stdout",
     "output_type": "stream",
     "text": [
      "Max test set accuracy: 0.9\n",
      "Index of max test set accuracy: (5, 3)\n",
      "Hyperparameter values: max Newton iter= 50 kernel = DotProduct(sigma_0=1)\n"
     ]
    }
   ],
   "source": [
    "#find the best test set accuracy, using numpy\n",
    "import numpy as np\n",
    "np_array = np.array(accuracy_test_k_n)\n",
    "max_index = np.unravel_index(np_array.argmax(), np_array.shape)\n",
    "print(\"Max test set accuracy:\",np_array.max())\n",
    "print(\"Index of max test set accuracy:\",max_index)\n",
    "print(\"Hyperparameter values: max Newton iter=\",max_iter_predicts[max_index[1]],\"kernel =\",kernels[max_index[0]])"
   ]
  },
  {
   "cell_type": "code",
   "execution_count": null,
   "id": "712218c3",
   "metadata": {},
   "outputs": [],
   "source": []
  }
 ],
 "metadata": {
  "kernelspec": {
   "display_name": "Python 3 (ipykernel)",
   "language": "python",
   "name": "python3"
  },
  "language_info": {
   "codemirror_mode": {
    "name": "ipython",
    "version": 3
   },
   "file_extension": ".py",
   "mimetype": "text/x-python",
   "name": "python",
   "nbconvert_exporter": "python",
   "pygments_lexer": "ipython3",
   "version": "3.8.10"
  }
 },
 "nbformat": 4,
 "nbformat_minor": 5
}
